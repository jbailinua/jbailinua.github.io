{
 "cells": [
  {
   "cell_type": "markdown",
   "id": "596b88d6",
   "metadata": {},
   "source": [
    "# Computational Experiment 5: N-Body Simulations\n",
    "\n",
    "In this experiment, you will run N-body simulations of a variety of systems to see how they evolve.\n",
    "\n",
    "Before you begin, **make sure to read through the full notebook and understand what each function does**. Pay special attention to anything that has a **FIXME** note, which you will need to edit.\n",
    "\n",
    "In this notebook, we will be making movies but saving them as external .mp4 files instead of embedding them in the notebook."
   ]
  },
  {
   "cell_type": "markdown",
   "id": "c4eba8a2",
   "metadata": {},
   "source": [
    "## 0. Import packages"
   ]
  },
  {
   "cell_type": "code",
   "execution_count": null,
   "id": "5974ee1f",
   "metadata": {},
   "outputs": [],
   "source": [
    "from gravhopper import Simulation, IC\n",
    "from astropy import units as u, constants as const\n",
    "import numpy as np\n",
    "import matplotlib.pyplot as plt\n",
    "from matplotlib.animation import FuncAnimation\n",
    "import pynbody.analysis.profile as profile\n",
    "\n",
    "import galpy.util\n",
    "galpy.util.__config__.set('astropy', 'astropy-units', 'True')\n",
    "from galpy import potential, df"
   ]
  },
  {
   "cell_type": "markdown",
   "id": "6a517ff7",
   "metadata": {},
   "source": [
    "## 1. Earth-Sun System"
   ]
  },
  {
   "cell_type": "markdown",
   "id": "1d997cd9",
   "metadata": {},
   "source": [
    "We will begin with a simple $N=2$ system so you can see how the package works: the Earth orbiting the Sun. First we need to set up the initial conditions (ICs) of the simulation: the Sun will be at the origin, and the Earth will be 1 au away on a circular orbit."
   ]
  },
  {
   "cell_type": "code",
   "execution_count": null,
   "id": "3d7210c6",
   "metadata": {},
   "outputs": [],
   "source": [
    "# Sun at origin with zero velocity and mass 1 Msun\n",
    "Sun = {'pos':np.array([0, 0, 0])*u.AU,\n",
    "       'vel':np.array([0, 0, 0])*u.km/u.s,\n",
    "       'mass':np.array([1])*u.Msun}\n",
    "# Earth is at x=1 au, v_y=29.8 km/s and mass 1 Mearth\n",
    "Earth = {'pos':np.array([1, 0, 0])*u.AU,\n",
    "         'vel':np.array([0, 29.8, 0])*u.km/u.s,\n",
    "         'mass':np.array([1])*u.Mearth}"
   ]
  },
  {
   "cell_type": "markdown",
   "id": "3030a310",
   "metadata": {},
   "source": [
    "To set up a simulation, we need to give two important parameters:\n",
    "1. Time step $dt$, which defines how long between simulation steps.\n",
    "2. The softening length $\\epsilon$, which ensures that the force doesn't diverge when particles get too close. This is important when the particles represent samples of a smooth density field, as we'll get to later, but in this case each particle really represents a distinct object, so we don't want any softening and should set this to a very small number (for numerical reasons it's best if this isn't literally zero)."
   ]
  },
  {
   "cell_type": "code",
   "execution_count": null,
   "id": "95630a91",
   "metadata": {},
   "outputs": [],
   "source": [
    "# Set up a Simulation with a time step of 1/20th of a year, a very small softening\n",
    "sim = Simulation(dt=0.05*u.yr, eps=0.001*u.au)"
   ]
  },
  {
   "cell_type": "markdown",
   "id": "fdfbe49d",
   "metadata": {},
   "source": [
    "And then we add the two bodies to the ICs."
   ]
  },
  {
   "cell_type": "code",
   "execution_count": null,
   "id": "5f74ae3e",
   "metadata": {},
   "outputs": [],
   "source": [
    "sim.add_IC(Sun)\n",
    "sim.add_IC(Earth)"
   ]
  },
  {
   "cell_type": "markdown",
   "id": "6b014b12",
   "metadata": {},
   "source": [
    "Finally we run the simulation for 21 time steps. Each step is 1/20th of a year, so this will give us one full Earth orbit."
   ]
  },
  {
   "cell_type": "code",
   "execution_count": null,
   "id": "15866137",
   "metadata": {},
   "outputs": [],
   "source": [
    "sim.run(21)"
   ]
  },
  {
   "cell_type": "markdown",
   "id": "91212128",
   "metadata": {},
   "source": [
    "After running, you can access the full position and velocity history using ``sim.positions`` and ``sim.velocities``. Each of these is a (Nsnap, Np, 3) array: the first dimension refers to the snapshot number, the second dimension refers to the particle number, and the third dimension refers to the coordinate (0=x, 1=y, 2=z). You can put specific numbers in for each of these, or use ``:`` to get them all.\n",
    "\n",
    "For example, if you want to find the y velocities of all particles at snapshot number 5:\n",
    "```\n",
    "sim.velocities[5,:,1]\n",
    "```\n",
    "or if you wanted to know the 3D position of particle number 0 at the end (remember that you can use ``-1`` to get the last element):\n",
    "```\n",
    "sim.positions[-1,0,:]\n",
    "```\n",
    "or if you wanted to know the x positions of particle number 25 at all snapshots:\n",
    "```\n",
    "sim.positions[:,25,0]\n",
    "```\n",
    "\n",
    "So the following code will plot the x-y positions of each body over all snapshots."
   ]
  },
  {
   "cell_type": "code",
   "execution_count": null,
   "id": "d937c298",
   "metadata": {},
   "outputs": [],
   "source": [
    "# Make a plot that has an aspect ratio of 1, i.e. it will be square if the axes have the same size.\n",
    "plt.subplot(111, aspect=1.0)\n",
    "# Plot x vs. y of particle 0 (Sun) in units of AU (default is kpc, which will look very strange!)\n",
    "plt.plot(sim.positions[:,0,0].to(u.au), sim.positions[:,0,1].to(u.au), 'o', color='yellow')\n",
    "# Plot x vs. y of particle 1 (Earth) as above\n",
    "plt.plot(sim.positions[:,1,0].to(u.au), sim.positions[:,1,1].to(u.au), color='blue')\n",
    "plt.xlabel('x (au)')\n",
    "plt.ylabel('y (au)')"
   ]
  },
  {
   "cell_type": "markdown",
   "id": "a70b859e",
   "metadata": {},
   "source": [
    "Look at it! Does it look like you'd expect?"
   ]
  },
  {
   "cell_type": "markdown",
   "id": "5a6370a1",
   "metadata": {},
   "source": [
    "Let's check out the Sun's velocity in one dimension, say $x$. You can access the time of each simulation snapshot using ``sim.times``."
   ]
  },
  {
   "cell_type": "code",
   "execution_count": null,
   "id": "23a07036",
   "metadata": {},
   "outputs": [],
   "source": [
    "# Plot Sun's reflex motion vs. time (in years)\n",
    "plt.plot(sim.times.to(u.yr), sim.velocities[:,0,0].to(u.m/u.s))\n",
    "plt.xlabel('t (yr)')\n",
    "plt.ylabel('$v_x$ (m/s)')"
   ]
  },
  {
   "cell_type": "markdown",
   "id": "5d2ba0e9",
   "metadata": {},
   "source": [
    "What do you think about this?\n",
    "\n",
    "**FIXME:** Try changing the mass of the Earth. You will need to recreate the Simulation object each time -- there is a ``sim.reset()`` function, which will wipe out the run but it will leave the ICs and any external forces (see later), so if you want to completely change the ICs it's easiest to just create a new Simulation object by going back to the ``sim = Simulation(...`` line.\n",
    "\n",
    "The first exoplanet-detecting spectrographs had a spectral resolution equivalent to 1 m/s. How massive does the Earth-like planet need to be to be detectable with those instruments around a nearby star, i.e. to cause a reflex motion of 1 m/s? Do you get the same answer from analytic arguments?"
   ]
  },
  {
   "cell_type": "markdown",
   "id": "dde7545e",
   "metadata": {},
   "source": [
    "**FIXME**: Reset the mass of the Earth, but change the timestep ``dt`` and run the simulation for a few orbits (you will need to adjust the number of steps to be appropriate). What happens when ``dt`` is small? What happens when ``dt`` is large? How large can you make it before it starts messing up the orbit? Why?"
   ]
  },
  {
   "cell_type": "markdown",
   "id": "1a5dfd64",
   "metadata": {},
   "source": [
    "## 2. Effects of orbital eccentricity\n",
    "\n",
    "Let's try to make this a bit more realistic. You can use [this list of planetary data](https://nssdc.gsfc.nasa.gov/planetary/factsheet/) to look up the masses and orbital properties of some important Solar System bodies.\n",
    "\n",
    "It's relatively easy to set up a planet at either aphelion or perihelion using this data: the \"Orbital Velocity\" and \"Distance from Sun\" rows are both averages, and conservation of angular momentum tells you that $v \\propto 1/r$ throughout the orbit. For example, instead of the Earth shown above, this line will set up the Earth to be at perihelion along the x axis:"
   ]
  },
  {
   "cell_type": "code",
   "execution_count": null,
   "id": "26096dff",
   "metadata": {},
   "outputs": [],
   "source": [
    "#Make this the appropriate value in km/s but do not put the astropy unit in -- that will be done below.\n",
    "v_Earth_at_peri = 29.8 * 149.6/147.1\n",
    "\n",
    "Earth = {'pos':np.array([147.1e6, 0, 0])*u.km,\n",
    "         'vel':np.array([0, v_Earth_at_peri, 0])*u.km/u.s,\n",
    "         'mass':np.array([1])*u.Mearth}"
   ]
  },
  {
   "cell_type": "markdown",
   "id": "6ebcd439",
   "metadata": {},
   "source": [
    "Let's do the simulation again and see if accounting for orbital eccentricity makes a difference."
   ]
  },
  {
   "cell_type": "code",
   "execution_count": null,
   "id": "7e0fdc81",
   "metadata": {},
   "outputs": [],
   "source": [
    "# Set up a Simulation with a time step of 1/20th of a year, a very small softening\n",
    "sim_e = Simulation(dt=0.05*u.yr, eps=0.001*u.au)\n",
    "sim_e.add_IC(Sun)\n",
    "sim_e.add_IC(Earth)\n",
    "sim_e.run(21)"
   ]
  },
  {
   "cell_type": "code",
   "execution_count": null,
   "id": "b8d14331",
   "metadata": {},
   "outputs": [],
   "source": [
    "# Make a plot that has an aspect ratio of 1, i.e. it will be square if the axes have the same size.\n",
    "plt.subplot(111, aspect=1.0)\n",
    "# Plot x vs. y of particle 0 (Sun) in units of AU\n",
    "plt.plot(sim.positions[:,0,0].to(u.au), sim.positions[:,0,1].to(u.au), 'o', color='yellow')\n",
    "# Plot x vs. y of circular Earth\n",
    "plt.plot(sim.positions[:,1,0].to(u.au), sim.positions[:,1,1].to(u.au), color='blue', label='Circular')\n",
    "# Plot x vs. y of eccentric Earth\n",
    "plt.plot(sim_e.positions[:,1,0].to(u.au), sim_e.positions[:,1,1].to(u.au), color='darkcyan', label='Eccentric')\n",
    "plt.xlabel('x (au)')\n",
    "plt.ylabel('y (au)')\n",
    "plt.legend()"
   ]
  },
  {
   "cell_type": "code",
   "execution_count": null,
   "id": "a9d1766a",
   "metadata": {},
   "outputs": [],
   "source": [
    "# Plot Sun's reflex motion vs. time (in years)\n",
    "plt.plot(sim.times.to(u.yr), sim.velocities[:,0,0].to(u.m/u.s), color='blue', label='Circular')\n",
    "plt.plot(sim_e.times.to(u.yr), sim_e.velocities[:,0,0].to(u.m/u.s), color='darkcyan', label='Eccentric')\n",
    "plt.xlabel('t (yr)')\n",
    "plt.ylabel('$v_x$ (m/s)')\n",
    "plt.legend()"
   ]
  },
  {
   "cell_type": "markdown",
   "id": "83da87b2",
   "metadata": {},
   "source": [
    "What do you think about these plots?\n",
    "\n",
    "**FIXME:** Try changing the orbital eccentricity of the Earth, keeping everything else the same. How eccentric does it need to be to make a measurable difference? How do radial velocity curves for stars with eccentric planets differ?"
   ]
  },
  {
   "cell_type": "markdown",
   "id": "a82abd2a",
   "metadata": {},
   "source": [
    "## 3. Add more planets\n",
    "\n",
    "**FIXME:** Using the orbital data from the NSSDC website, create a simulation that has Venus, Earth, Jupiter, and Saturn. Make sure to choose an appropriate value for both ``dt`` that is small enough to accurately integrate the fastest planet, and enough time steps to do at least one full orbit of the slowest planet. Set some of them at perihelion and some at aphelion. Also, don't line them all up on the same axis -- put at least a couple of them at different points in the orbit."
   ]
  },
  {
   "cell_type": "code",
   "execution_count": null,
   "id": "c57a082d",
   "metadata": {},
   "outputs": [],
   "source": [
    "Venus = #FIXME\n",
    "Earth = #FIXME\n",
    "Jupiter = #FIXME\n",
    "Saturn = #FIXME"
   ]
  },
  {
   "cell_type": "code",
   "execution_count": null,
   "id": "a5f915b9",
   "metadata": {},
   "outputs": [],
   "source": [
    "sim_SS = Simulation(#FIXME\n",
    "sim_SS.add_IC(#FIXME\n",
    "#...more add_IC lines...\n",
    "sim_SS.run(#FIXME"
   ]
  },
  {
   "cell_type": "markdown",
   "id": "94136453",
   "metadata": {},
   "source": [
    "Plot the planet orbits."
   ]
  },
  {
   "cell_type": "code",
   "execution_count": null,
   "id": "7b8b96a0",
   "metadata": {},
   "outputs": [],
   "source": [
    "fig = plt.figure(figsize=(10,10))\n",
    "ax = fig.add_subplot(111, aspect=1.0)\n",
    "ax.plot(sim_SS.positions[:,0,0].to(u.au), sim_SS.positions[:,0,1].to(u.au), 'o', color='yellow')\n",
    "for i in range(1,5):\n",
    "    ax.plot(sim_SS.positions[:,i,0].to(u.au), sim_SS.positions[:,i,1].to(u.au))"
   ]
  },
  {
   "cell_type": "markdown",
   "id": "30dac06d",
   "metadata": {},
   "source": [
    "What do you think?\n",
    "\n",
    "We can make a movie of the simulation using the ``movie_particles()`` function. It will write the output to an .mp4 file (you need to give it a filename). The other most useful parameters are the unit of the x and y axes, and the x and y limits of the plots that make up the movie. If you want to do a more complicated movie, you can follow the examples later on or look at the GravHopper source code of this function."
   ]
  },
  {
   "cell_type": "code",
   "execution_count": null,
   "id": "61350c51",
   "metadata": {},
   "outputs": [],
   "source": [
    "# The title bar will show a timeline, but by default it is in Myr, which isn't very useful for this case.\n",
    "# So first let's change the sim_SS.times array to be in units of years.\n",
    "sim_SS.times = sim_SS.times.to(u.yr)\n",
    "# Then make the movie, with axes in units of AU, going out to 12 AU in each direction, and points that are not too small.\n",
    "sim_SS.movie_particles('SS.mp4', unit=u.au, xlim=[-12,12], ylim=[-12,12], s=8)"
   ]
  },
  {
   "cell_type": "markdown",
   "id": "8b042f5e",
   "metadata": {},
   "source": [
    "What do you think of this movie?\n",
    "\n",
    "Now let's look at the Solar reflex motion again."
   ]
  },
  {
   "cell_type": "code",
   "execution_count": null,
   "id": "35465c63",
   "metadata": {},
   "outputs": [],
   "source": [
    "# Plot Sun's reflex motion vs. time (in years)\n",
    "plt.plot(sim_SS.times.to(u.yr), sim_SS.velocities[:,0,0].to(u.m/u.s))\n",
    "plt.xlabel('t (yr)')\n",
    "plt.ylabel('$v_x$ (m/s)')"
   ]
  },
  {
   "cell_type": "markdown",
   "id": "d7ccf17a",
   "metadata": {},
   "source": [
    "**FIXME:** Use ``plt.xlim()`` and ``plt.ylim`` to zoom in on diffent parts of the plot (or you can run this all with ``%matplotlib notebook`` so you can zoom in interactively). Can you identify oscillations caused by each of the planets?"
   ]
  },
  {
   "cell_type": "markdown",
   "id": "6c038ebc",
   "metadata": {},
   "source": [
    "## 4. Do something interesting\n",
    "\n",
    "Alter one of the above simulations in some interesting way to explore solar system-type dynamics. For example, you could:\n",
    " - Add one or more moons.\n",
    " - Make planets massive enough and/or nearby enough to each other that they interact with each other.\n",
    " - Throw a planet at the Sun.\n",
    " - Simulate a real exoplanet system.\n",
    " - Set up an unstable 3-body system."
   ]
  }
 ],
 "metadata": {
  "kernelspec": {
   "display_name": "Python 3 (ipykernel)",
   "language": "python",
   "name": "python3"
  },
  "language_info": {
   "codemirror_mode": {
    "name": "ipython",
    "version": 3
   },
   "file_extension": ".py",
   "mimetype": "text/x-python",
   "name": "python",
   "nbconvert_exporter": "python",
   "pygments_lexer": "ipython3",
   "version": "3.9.12"
  }
 },
 "nbformat": 4,
 "nbformat_minor": 5
}
