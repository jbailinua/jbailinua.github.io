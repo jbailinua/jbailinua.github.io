{
 "cells": [
  {
   "cell_type": "markdown",
   "id": "dacb1af7",
   "metadata": {},
   "source": [
    "## 9. Disk stability\n",
    "\n",
    "We will create an exponential disk that is isothermal in the vertical direction, in a background NFW potential, and let it run. Solving for an equilibrium disk configuration is very hard, and so ``IC.expdisk`` does an approximate solution.\n",
    "\n",
    "First we need to define the analytic NFW potential. This is both used in the simulation, so all particles will feel this extra force in addition to the force from all the other particles, and is also required by the IC code so that it knows what rotation velocities to give the particles."
   ]
  },
  {
   "cell_type": "code",
   "execution_count": null,
   "id": "e712dd3e",
   "metadata": {},
   "outputs": [],
   "source": [
    "# Galpy NFW potential with a scale mass of 2e11 Msun and scale radius of 20 kpc\n",
    "NFWpot = potential.NFWPotential(amp=2e11*u.Msun, a=20*u.kpc)"
   ]
  },
  {
   "cell_type": "code",
   "execution_count": null,
   "id": "6dd7b700",
   "metadata": {},
   "outputs": [],
   "source": [
    "# Create an exponential disk with central surface brightness of 100 Msun/pc^2, exponential scale length of 2kpc\n",
    "# and vertical height of 0.2 kpc, a radial velocity dispersion scale of 20 km/s, and\n",
    "# using the NFWpot rotation curve as an external force with 5000 particles\n",
    "expdisk_IC = IC.expdisk(N=5000, sigma0=100*u.Msun/u.pc**2, Rd=2*u.kpc, z0=0.2*u.kpc, sigmaR_Rd=20*u.km/u.s,\\\n",
    "                       external_rotcurve=NFWpot.vcirc)"
   ]
  },
  {
   "cell_type": "code",
   "execution_count": null,
   "id": "7c6f95a8",
   "metadata": {},
   "outputs": [],
   "source": [
    "# Create a simulation with a 2.5 Myr time step and 0.1 kpc softening\n",
    "sim_disk = Simulation(dt=2.5*u.Myr, eps=0.1*u.kpc)\n",
    "# Add the disk IC\n",
    "sim_disk.add_IC(expdisk_IC)\n",
    "# Add the NFW potential as an external force\n",
    "sim_disk.add_external_force(NFWpot)"
   ]
  },
  {
   "cell_type": "code",
   "execution_count": null,
   "id": "dac99936",
   "metadata": {},
   "outputs": [],
   "source": [
    "# Run for 400 time steps\n",
    "sim_disk.run(400)"
   ]
  },
  {
   "cell_type": "markdown",
   "id": "c4ff1571",
   "metadata": {},
   "source": [
    "Let's make a movie of the particle positions and velocities, both face-on and edge-on."
   ]
  },
  {
   "cell_type": "code",
   "execution_count": null,
   "id": "77fc16d3",
   "metadata": {},
   "outputs": [],
   "source": [
    "fig = plt.figure(figsize=(15,15))\n",
    "\n",
    "# Function that updates each frame\n",
    "def animate(frame):\n",
    "    fig.clf()\n",
    "    ax_xy = fig.add_subplot(221, aspect=1.0)\n",
    "    ax_xz = fig.add_subplot(223, aspect=1.0)\n",
    "    ax_vxy = fig.add_subplot(222, aspect=1.0)\n",
    "    ax_vxz = fig.add_subplot(224, aspect=1.0)\n",
    "    \n",
    "    # First plot: particle positions xy in units of kpc\n",
    "    plot_xy = sim_disk.plot_particles(snap=frame, parm='pos', coords='xy', unit=u.kpc, \\\n",
    "                                 xlim=[-20,20], ylim=[-20,20], ax=ax_xy)\n",
    "    # Second plot: velocity in xy in units of km/s\n",
    "    plot_vxy = sim_disk.plot_particles(snap=frame, parm='vel', coords='xy', unit=u.km/u.s, \\\n",
    "                                xlim=[-200,200], ylim=[-200,200], ax=ax_vxy)\n",
    "\n",
    "    # Same but xz\n",
    "    plot_xz = sim_disk.plot_particles(snap=frame, parm='pos', coords='xz', unit=u.kpc, \\\n",
    "                                 xlim=[-20,20], ylim=[-20,20], ax=ax_xz)\n",
    "    plot_vxz = sim_disk.plot_particles(snap=frame, parm='vel', coords='xz', unit=u.km/u.s, \\\n",
    "                                xlim=[-200,200], ylim=[-200,200], ax=ax_vxz)\n",
    "        \n",
    "    return plot_xy, plot_vxy, plot_xz, plot_vxz\n",
    "\n",
    "ms_per_frame = 40   # 25 frames per second\n",
    "anim = FuncAnimation(fig, animate, frames=sim_disk.Nsnap, interval=ms_per_frame)\n",
    "anim.save('disk_posvel.mp4')\n",
    "\n",
    "plt.close(fig)"
   ]
  },
  {
   "cell_type": "markdown",
   "id": "7a31d8ed",
   "metadata": {},
   "source": [
    "Think about what you're seeing, both initially and after it settles down. Does it reach a reasonably steady state, or does it continue to evolve?\n",
    "\n",
    "Let's look at the evolution of the surface density and vertical density profiles."
   ]
  },
  {
   "cell_type": "code",
   "execution_count": null,
   "id": "b63692df",
   "metadata": {},
   "outputs": [],
   "source": [
    "fig = plt.figure(figsize=(18,9))\n",
    "\n",
    "plotz_max = 2.\n",
    "\n",
    "# Function that updates each frame\n",
    "def animate(frame):\n",
    "    fig.clf()\n",
    "    ax_surfdens = fig.add_subplot(121)\n",
    "    ax_vertdens = fig.add_subplot(122)\n",
    "    \n",
    "    # Create a pynbody snapshot of the given snapshot and make a 3D profile from it\n",
    "    snap = sim_disk.pyn_snap(frame)\n",
    "    # Make a 2D profile of the snapshot (so we get surface density as a function of cylindrical radius)\n",
    "    prof = profile.Profile(snap, ndim=3, nbins=200)\n",
    "    # Vertical profile that gives us density as a function of height. Use all radii between 0 and 25 kpc.\n",
    "    zprof = profile.VerticalProfile(snap, 0., 25., plotz_max)\n",
    "    \n",
    "    # Surface density profile\n",
    "    densplot = ax_surfdens.plot(prof['rbins'], prof['density'])\n",
    "    ax_surfdens.set_xscale('log')\n",
    "    ax_surfdens.set_yscale('log')\n",
    "    ax_surfdens.set_xlim(0.1, 20)\n",
    "    ax_surfdens.set_ylim(1e2,1e8)\n",
    "    radial_label = 'r (${0}$)'.format(prof['rbins'].units.latex())\n",
    "    ax_surfdens.set_xlabel(radial_label)\n",
    "    ax_surfdens.set_ylabel('$\\\\Sigma$ (${0}$)'.format(prof['density'].units.latex()))\n",
    "    ax_surfdens.set_title('{0:.1f}'.format(sim_disk.times[frame]))\n",
    "    \n",
    "    # Vertical density profile\n",
    "    vertplot = ax_vertdens.plot(zprof['rbins'], zprof['density'].in_units('Msol pc^-3'))\n",
    "    ax_vertdens.set_yscale('log')\n",
    "    ax_vertdens.set_xlim(0,plotz_max)\n",
    "    ax_vertdens.set_ylim(3e-6, 3e-3)\n",
    "    vertical_axis_label = 'z (${0}$)'.format(zprof['rbins'].units.latex())\n",
    "    ax_vertdens.set_xlabel(vertical_axis_label)\n",
    "    ax_vertdens.set_ylabel('$\\\\rho$ [M$_{\\odot}$ pc$^{-3}$]')\n",
    "        \n",
    "    return densplot, vertplot\n",
    "\n",
    "anim = FuncAnimation(fig, animate, frames=sim_disk.Nsnap, interval=ms_per_frame)\n",
    "anim.save('disk_profiles.mp4')\n",
    "\n",
    "plt.close(fig)"
   ]
  },
  {
   "cell_type": "markdown",
   "id": "3151788b",
   "metadata": {},
   "source": [
    "Look at these. How do they connect to how we tried to set up the disk? How do they connect to what you see in the particle movies?\n",
    "\n",
    "We can also use profiles to make movies of the 3 velocity components. We'll plot both the mean velocities and the dispersions."
   ]
  },
  {
   "cell_type": "code",
   "execution_count": null,
   "id": "07fc13b4",
   "metadata": {},
   "outputs": [],
   "source": [
    "fig = plt.figure(figsize=(18,18))\n",
    "\n",
    "radius_range = [0,20]\n",
    "vrange = [-15,40]\n",
    "\n",
    "# Function that updates each frame\n",
    "def animate(frame):\n",
    "    fig.clf()\n",
    "    ax_vr = fig.add_subplot(221)\n",
    "    ax_vphi = fig.add_subplot(222)\n",
    "    ax_vz = fig.add_subplot(223)\n",
    "    \n",
    "    # Create a pynbody snapshot of the given snapshot and make a 3D profile from it\n",
    "    snap = sim_disk.pyn_snap(frame)\n",
    "    # Make a 2D profile of the snapshot\n",
    "    prof = profile.Profile(snap, ndim=3, nbins=200)\n",
    "    radial_label = 'r (${0}$)'.format(prof['rbins'].units.latex())\n",
    "\n",
    "    vrplot = ax_vr.plot(prof['rbins'], prof['vr'], label='$<v_R>$')\n",
    "    ax_vr.plot(prof['rbins'], prof['vr_disp'], label='$\\sigma_R$')\n",
    "    ax_vr.plot(radius_range, [0,0], color='gray')\n",
    "    ax_vr.set_xlim(*radius_range)\n",
    "    ax_vr.set_ylim(*vrange)\n",
    "    ax_vr.set_xlabel(radial_label)\n",
    "    ax_vr.set_ylabel('Radial Velocity')\n",
    "    ax_vr.legend(loc='upper right')\n",
    "\n",
    "    vphiplot = ax_vphi.plot(prof['rbins'], prof['vphi'], label='$<v_{\\phi}>$')\n",
    "    ax_vphi.plot(prof['rbins'], prof['vphi_disp'], label='$\\sigma_{\\phi}$')\n",
    "    ax_vphi.set_xlim(*radius_range)\n",
    "    ax_vphi.set_ylim(0,100)  # These will be higher\n",
    "    ax_vphi.set_xlabel(radial_label)\n",
    "    ax_vphi.set_ylabel('Azimuthal Velocity')\n",
    "    ax_vphi.legend(loc='upper left')\n",
    "    \n",
    "    vzplot = ax_vz.plot(prof['rbins'], prof['vz'], label='$<v_z>$')\n",
    "    ax_vz.plot(prof['rbins'], prof['vz_disp'], label='$\\sigma_z$')\n",
    "    ax_vz.plot(radius_range, [0,0], color='gray')\n",
    "    ax_vz.set_xlim(*radius_range)\n",
    "    ax_vz.set_ylim(*vrange)\n",
    "    ax_vz.set_xlabel(radial_label)\n",
    "    ax_vz.set_ylabel('Vertical Velocity')\n",
    "    ax_vz.legend(loc='upper right')\n",
    "    \n",
    "    return vrplot, vphiplot, vzplot\n",
    "\n",
    "anim = FuncAnimation(fig, animate, frames=sim_disk.Nsnap, interval=ms_per_frame)\n",
    "anim.save('disk_vprofs.mp4')\n",
    "\n",
    "plt.close(fig)"
   ]
  },
  {
   "cell_type": "markdown",
   "id": "3151b396",
   "metadata": {},
   "source": [
    "Think about what you're seeing, both in terms of the mean velocities and their dispersions. How does this relate to how you see the densities evolve?"
   ]
  },
  {
   "cell_type": "markdown",
   "id": "47eab257",
   "metadata": {},
   "source": [
    "## 10. Play with the disk\n",
    "\n",
    "**FIXME:** Take each of the disk parameters and try changing it to see what effect it has. Do the equilibrium configurations (if they exist) reflect these changes in the way you would expect? Do the presence or absence of disk instabilities change in the way you would expect?"
   ]
  },
  {
   "cell_type": "markdown",
   "id": "f054e10b",
   "metadata": {},
   "source": [
    "## 11. Find a particle and trace its orbit\n",
    "\n",
    "Let's find a particle with particular properties and trace its orbit. We'll choose a particle based on its original position and velocity. Pick a position and velocity for a particle that you would expect to be on a mostly (but not perfectly) circular orbit, i.e. one that should have a slight orbital eccentricity in the orbital plane and a slight vertical bobbing.\n",
    "\n",
    "**FIXME:** Put your preferred particle position and velocity here."
   ]
  },
  {
   "cell_type": "code",
   "execution_count": null,
   "id": "40dcbc09",
   "metadata": {},
   "outputs": [],
   "source": [
    "R_desired = #FIXME\n",
    "z_desired = #FIXME\n",
    "vR_desired = #FIXME\n",
    "vz_desired = #FIXME"
   ]
  },
  {
   "cell_type": "code",
   "execution_count": null,
   "id": "dd19c748",
   "metadata": {},
   "outputs": [],
   "source": [
    "# Compare all particles to this, relative to a \"typical\" distance and velocity scale\n",
    "Rscale = 2*u.kpc\n",
    "zscale = 0.2*u.kpc\n",
    "vscale = 2*u.km/u.s\n",
    "disk_R = np.sqrt(sim_disk.positions[0,:,0]**2 + sim_disk.positions[0,:,1]**2)\n",
    "disk_z = sim_disk.positions[0,:,2]\n",
    "disk_vR = (sim_disk.velocities[0,:,0]*sim_disk.positions[0,:,0] + sim_disk.velocities[0,:,1]*sim_disk.positions[0,:,1])/disk_R\n",
    "disk_vz = sim_disk.velocities[0,:,2]\n",
    "how_dissimilar = ((disk_R - R_desired)/Rscale)**2 + ((disk_z - z_desired)/zscale)**2 + \\\n",
    "    ((disk_vR - vR_desired)/vscale)**2 + ((disk_vz - vz_desired)/vscale)**2"
   ]
  },
  {
   "cell_type": "code",
   "execution_count": null,
   "id": "3ec61fda",
   "metadata": {},
   "outputs": [],
   "source": [
    "# np.argmin tells you which element in an array has the smallest value\n",
    "best_particle = np.argmin(how_dissimilar)"
   ]
  },
  {
   "cell_type": "markdown",
   "id": "cd945487",
   "metadata": {},
   "source": [
    "**FIXME:** Check that it did an okay job using this. If not, go back and adjust your desired parameters. You won't find a perfect match, but make sure that it is \"mostly but not perfectly circular\"."
   ]
  },
  {
   "cell_type": "code",
   "execution_count": null,
   "id": "2724c7a9",
   "metadata": {},
   "outputs": [],
   "source": [
    "print('R: ',disk_R[best_particle])\n",
    "print('z: ',disk_z[best_particle])\n",
    "print('vR: ',disk_vR[best_particle])\n",
    "print('vz: ',disk_vz[best_particle])"
   ]
  },
  {
   "cell_type": "markdown",
   "id": "531e182b",
   "metadata": {},
   "source": [
    "Now let's plot this particle's orbit.\n",
    "\n",
    "**FIXME:** Plot the xy and xz trajectories of ``best_particle``."
   ]
  },
  {
   "cell_type": "code",
   "execution_count": null,
   "id": "612f5e6c",
   "metadata": {},
   "outputs": [],
   "source": [
    "# xy and xz projections\n",
    "fig = plt.figure(figsize=(10,4))\n",
    "ax_xy = fig.add_subplot(121, aspect=1.0)\n",
    "ax_xz = fig.add_subplot(122, aspect=1.0)\n",
    "ax_xy.plot(#FIXME\n",
    "ax_xz.plot(#FIXME\n",
    "# Label appropriately\n",
    "ax_xy.set_#FIXME...\n",
    "ax_xz.set_#FIXME..."
   ]
  },
  {
   "cell_type": "markdown",
   "id": "49eedb37",
   "metadata": {},
   "source": [
    "And let's plot how $R$ and $z$ evolve with time.\n",
    "\n",
    "Note: You might want to use the ``%matplotlib notebook`` pragma to do the analysis of this."
   ]
  },
  {
   "cell_type": "code",
   "execution_count": null,
   "id": "56d8a689",
   "metadata": {},
   "outputs": [],
   "source": [
    "fig = plt.figure(figsize=(12,4))\n",
    "ax_R = fig.add_subplot(121)\n",
    "ax_z = fig.add_subplot(122)\n",
    "# Define R of best_particle for convenience\n",
    "best_R = np.sqrt(sim_disk.positions[:,best_particle,0]**2 + sim_disk.positions[:,best_particle,1]**2)\n",
    "# time label\n",
    "timelabel = 't ({0})'.format(sim_disk.times.unit)\n",
    "\n",
    "ax_R.plot(sim_disk.times, best_R)\n",
    "ax_R.set_xlabel(timelabel)\n",
    "ax_R.set_ylabel('R ({0})'.format(best_R.unit))\n",
    "\n",
    "ax_z.plot(sim_disk.times, sim_disk.positions[:,best_particle,2])\n",
    "ax_z.set_xlabel(timelabel)\n",
    "ax_z.set_ylabel('z ({0})'.format(sim_disk.positions.unit))"
   ]
  },
  {
   "cell_type": "markdown",
   "id": "11d09514",
   "metadata": {},
   "source": [
    "How do these orbits compare to the orbits we computed in Experiment 3? What is your best estimate for the epicyclic frequency, based on this plot? How about the vertical frequency? Are they constant? Is there any relation between the vertical frequency and $R$? What would you expect the frequencies to be at early times based on the NFW + disk potential with the surface density profile we gave and the radius you chose? Do they agree with what you measure from the plot?"
   ]
  },
  {
   "cell_type": "markdown",
   "id": "45ac8a99",
   "metadata": {},
   "source": [
    "## 12. Do something interesting\n",
    "\n",
    "You know the drill... try something else! For example, you could:\n",
    " - Take some parameters to ridiculous extremes and see whether it reacts how you expect.\n",
    " - Add an N-body bulge (e.g. as a Hernquist IC).\n",
    "     - If you do this, make sure to include its effect on the rotation curve when you set up the disk.\n",
    " - Use a different potential for the halo.\n",
    " - Add a time-dependent potential like a bar (note: if you do this, you will need to use the ``add_external_timedependent_force`` instead of ``add_external_force``).\n",
    " - Run for a very long time to see the long term evolution of the disk.\n",
    " - Try using a halo potential that is different from the rotation curve used to set up the disk."
   ]
  }
 ],
 "metadata": {
  "kernelspec": {
   "display_name": "Python 3 (ipykernel)",
   "language": "python",
   "name": "python3"
  },
  "language_info": {
   "codemirror_mode": {
    "name": "ipython",
    "version": 3
   },
   "file_extension": ".py",
   "mimetype": "text/x-python",
   "name": "python",
   "nbconvert_exporter": "python",
   "pygments_lexer": "ipython3",
   "version": "3.9.12"
  }
 },
 "nbformat": 4,
 "nbformat_minor": 5
}
