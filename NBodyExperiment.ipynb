{
 "cells": [
  {
   "cell_type": "markdown",
   "id": "134d9792",
   "metadata": {},
   "source": [
    "# Computational Experiment"
   ]
  },
  {
   "cell_type": "markdown",
   "id": "90a2c6cc",
   "metadata": {},
   "source": [
    "## 0. Import packages"
   ]
  },
  {
   "cell_type": "code",
   "execution_count": null,
   "id": "f3216686",
   "metadata": {},
   "outputs": [],
   "source": [
    "from gravhopper import Simulation, IC\n",
    "from astropy import units as u, constants as const\n",
    "import numpy as np\n",
    "import matplotlib.pyplot as plt\n",
    "from matplotlib.animation import FuncAnimation\n",
    "import pynbody.analysis.profile as profile\n",
    "\n",
    "import galpy.util\n",
    "galpy.util.__config__.set('astropy', 'astropy-units', 'True')\n",
    "from galpy import potential, df"
   ]
  },
  {
   "cell_type": "markdown",
   "id": "eb092514",
   "metadata": {},
   "source": [
    "## 1. Plummer sphere\n",
    "\n",
    "Let's set up a system with lots of particles! The simplest system we can imagine is the ergodic Plummer sphere we derived in class."
   ]
  },
  {
   "cell_type": "code",
   "execution_count": null,
   "id": "342225b2",
   "metadata": {},
   "outputs": [],
   "source": [
    "# Create ICs for a Plummer sphere with characteristic scale 1pc, mass 1e6 Msun, sampled with 5000 particles\n",
    "Plummer_IC = IC.Plummer(b=1*u.pc, totmass=1e6*u.Msun, N=5000)"
   ]
  },
  {
   "cell_type": "code",
   "execution_count": null,
   "id": "fc240bf8",
   "metadata": {},
   "outputs": [],
   "source": [
    "# Create a simulation with timesteps of 0.005 Myr and softening of 0.05 pc\n",
    "sim_P = Simulation(dt=0.005*u.Myr, eps=0.05*u.pc)\n",
    "# Add the Plummer ICs\n",
    "sim_P.add_IC(Plummer_IC)"
   ]
  },
  {
   "cell_type": "code",
   "execution_count": null,
   "id": "4f9820c1",
   "metadata": {},
   "outputs": [],
   "source": [
    "# Run for 500 time steps\n",
    "sim_P.run(500)"
   ]
  },
  {
   "cell_type": "markdown",
   "id": "4138bd08",
   "metadata": {},
   "source": [
    "We can plot the particle distribution projected along different axes using the ``plot_particles()`` method. We'll start by looking at the initial particle positions (``snap='IC'``):"
   ]
  },
  {
   "cell_type": "code",
   "execution_count": null,
   "id": "43c3b8f0",
   "metadata": {},
   "outputs": [],
   "source": [
    "fig = plt.figure(figsize=(8,9))\n",
    "ax1 = fig.add_subplot(221, aspect=1.0)\n",
    "ax2 = fig.add_subplot(222, aspect=1.0)\n",
    "ax3 = fig.add_subplot(223, aspect=1.0)\n",
    "\n",
    "# Plot the x-y projection of positions onto axis ax1 in units of pc with limits +/-5\n",
    "sim_P.plot_particles(snap='IC', parm='pos', coords='xy',  unit=u.pc, xlim=[-5,5], ylim=[-5,5], ax=ax1)\n",
    "# ...and the other projections\n",
    "sim_P.plot_particles(snap='IC', parm='pos', coords='zy', unit=u.pc, xlim=[-5,5], ylim=[-5,5], ax=ax2)\n",
    "sim_P.plot_particles(snap='IC', parm='pos', coords='xz', unit=u.pc, xlim=[-5,5], ylim=[-5,5], ax=ax3)"
   ]
  },
  {
   "cell_type": "markdown",
   "id": "f1c8daf7",
   "metadata": {},
   "source": [
    "We can compare this to the final snapshot by specifying ``snap='final'``. Other options are a specific snapshot number."
   ]
  },
  {
   "cell_type": "code",
   "execution_count": null,
   "id": "8cf2d389",
   "metadata": {},
   "outputs": [],
   "source": [
    "fig = plt.figure(figsize=(8,9))\n",
    "ax1 = fig.add_subplot(221, aspect=1.0)\n",
    "ax2 = fig.add_subplot(222, aspect=1.0)\n",
    "ax3 = fig.add_subplot(223, aspect=1.0)\n",
    "\n",
    "sim_P.plot_particles(snap='final', parm='pos', coords='xy',  unit=u.pc, xlim=[-5,5], ylim=[-5,5], ax=ax1)\n",
    "sim_P.plot_particles(snap='final', parm='pos', coords='zy', unit=u.pc, xlim=[-5,5], ylim=[-5,5], ax=ax2)\n",
    "sim_P.plot_particles(snap='final', parm='pos', coords='xz', unit=u.pc, xlim=[-5,5], ylim=[-5,5], ax=ax3)"
   ]
  },
  {
   "cell_type": "markdown",
   "id": "195e3a2f",
   "metadata": {},
   "source": [
    "Look at these! Does the distribution appear to be in equilibrium?\n",
    "\n",
    "We can examine other aspects of the simulation too, such as the velocities.\n",
    "**FIXME:** Use ``parm='vel'`` to compare the initial and final velocity ellipsoid (note: you should probably eliminate or change the ``xlim`` and ``ylim`` parameters. What do you think?"
   ]
  },
  {
   "cell_type": "markdown",
   "id": "40456e40",
   "metadata": {},
   "source": [
    "Let's make a movie of the positions and velocities! This will save the movie to ``Plummer_posvel.mp4``; you can change this in the ``anim.save()`` line as you make other movies."
   ]
  },
  {
   "cell_type": "code",
   "execution_count": null,
   "id": "9cf66ab9",
   "metadata": {},
   "outputs": [],
   "source": [
    "fig = plt.figure(figsize=(15,7))\n",
    "\n",
    "# Function that updates each frame\n",
    "def animate(frame):\n",
    "    fig.clf()\n",
    "    ax1 = fig.add_subplot(121, aspect=1.0)\n",
    "    ax2 = fig.add_subplot(122, aspect=1.0)\n",
    "    \n",
    "    # First plot: particle positions xy in units of pc\n",
    "    posplot = sim_P.plot_particles(snap=frame, parm='pos', coords='xy', unit=u.pc, \\\n",
    "                                 xlim=[-5,5], ylim=[-5,5], ax=ax1)\n",
    "    # Second plot: velocity ellipsoid xy in units of km/s\n",
    "    velplot = sim_P.plot_particles(snap=frame, parm='vel', coords='xy', unit=u.km/u.s, \\\n",
    "                                xlim=[-75,75], ylim=[-75,75], ax=ax2)\n",
    "    return posplot, velplot\n",
    "\n",
    "ms_per_frame = 40   # 25 frames per second\n",
    "anim = FuncAnimation(fig, animate, frames=sim_P.Nsnap, interval=ms_per_frame)\n",
    "anim.save('Plummer_posvel.mp4')\n",
    "\n",
    "plt.close(fig)"
   ]
  },
  {
   "cell_type": "markdown",
   "id": "61e98827",
   "metadata": {},
   "source": [
    "What do you think of them? What do you think about how long it takes to do the simulation vs. to create the movie?\n",
    "\n",
    "We can also turn a GravHopper snapshot into a pynbody snapshot using the ``pyn_snap()`` function, so we can use pynbody's analysis routines to create profiles. So let's make a movie that shows the density profile and velocity dispersion profile over the course of the simulation."
   ]
  },
  {
   "cell_type": "code",
   "execution_count": null,
   "id": "16a0c1a3",
   "metadata": {},
   "outputs": [],
   "source": [
    "fig = plt.figure(figsize=(20,8))\n",
    "\n",
    "# Function that updates each frame\n",
    "def animate(frame):\n",
    "    fig.clf()\n",
    "    ax1 = fig.add_subplot(121)\n",
    "    ax2 = fig.add_subplot(122)\n",
    "    \n",
    "    # Create a pynbody snapshot of the given snapshot\n",
    "    snap = sim_P.pyn_snap(frame)\n",
    "    # The conversion routine forces position units to kpc, but pc is much more convenient\n",
    "    # for this situation, so convert it back before making the profile.\n",
    "    snap['pos'].convert_units('pc')\n",
    "    # Make a 3D profile of the snapshot\n",
    "    prof = profile.Profile(snap, ndim=3, nbins=200)\n",
    "    \n",
    "    # First plot: density profile\n",
    "    densplot = ax1.plot(prof['rbins'], prof['density'])\n",
    "    ax1.set_xscale('log')\n",
    "    ax1.set_yscale('log')\n",
    "    ax1.set_xlim(1, 50)\n",
    "    ax1.set_ylim(1e-4,3e4)\n",
    "    radial_label = 'r (${0}$)'.format(prof['rbins'].units.latex())\n",
    "    ax1.set_xlabel(radial_label)\n",
    "    ax1.set_ylabel('$\\\\rho$ (${0}$)'.format(prof['density'].units.latex()))\n",
    "    ax1.set_title('{0:.2f}'.format(sim_P.times[frame]))\n",
    "    \n",
    "    # Second plot: radial velocity dispersion profile\n",
    "    sigmaplot = ax2.plot(prof['rbins'], prof['vr_disp'].in_units('km s^-1'))\n",
    "    ax2.set_xscale('log')\n",
    "    ax2.set_xlim(1, 50)\n",
    "    ax2.set_ylim(0, 25)\n",
    "    ax2.set_xlabel(radial_label)\n",
    "    ax2.set_ylabel('$\\\\sigma_r$ (km/s)')\n",
    "    \n",
    "    return densplot, sigmaplot\n",
    "\n",
    "anim = FuncAnimation(fig, animate, frames=sim_P.Nsnap, interval=ms_per_frame)\n",
    "anim.save('Plummer_profiles.mp4')\n",
    "\n",
    "plt.close(fig)"
   ]
  },
  {
   "cell_type": "markdown",
   "id": "e92c8a9a",
   "metadata": {},
   "source": [
    "What do you think of these? How does the $\\sigma_r$ plot relate to the particle velocity plots earlier? Do you expect the simulation to be in equilibrium? Does it appear to be based on these various plots and movies? How do you think I decided what value of ``dt`` to use for the simulation?"
   ]
  },
  {
   "cell_type": "markdown",
   "id": "a09da36f",
   "metadata": {},
   "source": [
    "## 2. Play with the Plummer sphere\n",
    "\n",
    "**FIXME:** Try changing the scale length ``b`` of the Plummer sphere (you will probably need to play with the limits of the various axes). How would you expect the velocity dispersion to scale with $b$ based on analytic arguments? How does that compare to what you see?\n",
    "\n",
    "**FIXME:** Try changing the total mass of the Plummer sphere. How would you expect the velocity dispersion to scale with mass? How does that compare to what you see?"
   ]
  },
  {
   "cell_type": "markdown",
   "id": "4199a6d4",
   "metadata": {},
   "source": [
    "## 3. Truncated Singular Isothermal Sphere\n",
    "\n",
    "We investigated the Truncated Singular Isothermal Sphere analytically in Assignment 4 -- now let's examine it numerically!"
   ]
  },
  {
   "cell_type": "code",
   "execution_count": null,
   "id": "c883c19b",
   "metadata": {},
   "outputs": [],
   "source": [
    "# Create a TSIS with a mass of 1e11 Msun, a cutoff radius of 100 kpc, sampled with 5000 particles\n",
    "TSIS_IC = IC.TSIS(totmass=1e11*u.Msun, maxrad=100*u.kpc, N=5000)"
   ]
  },
  {
   "cell_type": "markdown",
   "id": "9396a075",
   "metadata": {},
   "source": [
    "**FIXME:** Create a simulation with a time step of 5 Myr, softening of 0.2 kpc. Add the TSIS ICs, and run it for 500 time steps."
   ]
  },
  {
   "cell_type": "code",
   "execution_count": null,
   "id": "d570c689",
   "metadata": {},
   "outputs": [],
   "source": [
    "sim_TSIS = #FIXME\n",
    "sim_TSIS.add_IC(#FIXME\n",
    "sim_TSIS.run(#FIXME"
   ]
  },
  {
   "cell_type": "markdown",
   "id": "4adf4c84",
   "metadata": {},
   "source": [
    "Let's make movies of the positions/velocities and the density/velocity dispersion profiles for this case too."
   ]
  },
  {
   "cell_type": "code",
   "execution_count": null,
   "id": "19e314f6",
   "metadata": {},
   "outputs": [],
   "source": [
    "fig = plt.figure(figsize=(10,5))\n",
    "\n",
    "# Function that updates each frame\n",
    "def animate(frame):\n",
    "    fig.clf()\n",
    "    ax1 = fig.add_subplot(121, aspect=1.0)\n",
    "    ax2 = fig.add_subplot(122, aspect=1.0)\n",
    "    \n",
    "    # First plot: particle positions xy in units of pc\n",
    "    posplot = sim_TSIS.plot_particles(snap=frame, parm='pos', coords='xy', unit=u.kpc, \\\n",
    "                                 xlim=[-200,200], ylim=[-200,200], ax=ax1)\n",
    "    # Second plot: velocity ellipsoid xy in units of km/s\n",
    "    velplot = sim_TSIS.plot_particles(snap=frame, parm='vel', coords='xy', unit=u.km/u.s, \\\n",
    "                                xlim=[-200,200], ylim=[-200,200], ax=ax2)\n",
    "    return posplot, velplot\n",
    "\n",
    "ms_per_frame = 40   # 25 frames per second\n",
    "anim = FuncAnimation(fig, animate, frames=sim_TSIS.Nsnap, interval=ms_per_frame)\n",
    "anim.save('TSIS_posvel.mp4')\n",
    "\n",
    "plt.close(fig)"
   ]
  },
  {
   "cell_type": "code",
   "execution_count": null,
   "id": "4138ea84",
   "metadata": {},
   "outputs": [],
   "source": [
    "fig = plt.figure(figsize=(20,8))\n",
    "\n",
    "# Function that updates each frame\n",
    "def animate(frame):\n",
    "    fig.clf()\n",
    "    ax1 = fig.add_subplot(121)\n",
    "    ax2 = fig.add_subplot(122)\n",
    "    \n",
    "    # Create a pynbody snapshot of the given snapshot and make a 3D profile from it\n",
    "    snap = sim_TSIS.pyn_snap(frame)\n",
    "    # Make a 3D profile of the snapshot\n",
    "    prof = profile.Profile(snap, ndim=3, nbins=200)\n",
    "    \n",
    "    # First plot: density profile\n",
    "    densplot = ax1.plot(prof['rbins'], prof['density'])\n",
    "    ax1.set_xscale('log')\n",
    "    ax1.set_yscale('log')\n",
    "    ax1.set_xlim(0.2, 400)\n",
    "    ax1.set_ylim(1e-1,1e10)\n",
    "    radial_label = 'r (${0}$)'.format(prof['rbins'].units.latex())\n",
    "    ax1.set_xlabel(radial_label)\n",
    "    ax1.set_ylabel('$\\\\rho$ (${0}$)'.format(prof['density'].units.latex()))\n",
    "    ax1.set_title('{0:.2f}'.format(sim_TSIS.times[frame]))\n",
    "    \n",
    "    # Second plot: radial velocity dispersion profile\n",
    "    sigmaplot = ax2.plot(prof['rbins'], prof['vr_disp'].in_units('km s^-1'))\n",
    "    ax2.set_xscale('log')\n",
    "    ax2.set_xlim(0.2, 400)\n",
    "    ax2.set_ylim(0, 60)\n",
    "    ax2.set_xlabel(radial_label)\n",
    "    ax2.set_ylabel('$\\\\sigma_r$ (km/s)')\n",
    "    \n",
    "    return densplot, sigmaplot\n",
    "\n",
    "anim = FuncAnimation(fig, animate, frames=sim_TSIS.Nsnap, interval=ms_per_frame)\n",
    "anim.save('TSIS_profiles.mp4')\n",
    "\n",
    "plt.close(fig)"
   ]
  },
  {
   "cell_type": "markdown",
   "id": "de12595d",
   "metadata": {},
   "source": [
    "How does this situation differ from the Plummer sphere? What happens at small radius? What happens near the truncation radius? What happens at large radius? Think about the TSIS question from Assignment 4 -- what would you have expected to happen based on your analysis? How does that relate to what you see here? Think about Liouville's Theorem -- how is what you see in the ``TSIS_posvel.mp4`` movie an example of that?"
   ]
  },
  {
   "cell_type": "markdown",
   "id": "9f727308",
   "metadata": {},
   "source": [
    "## 4. Do something interesting\n",
    "\n",
    "Modify something in one of the spherical examples. For example:\n",
    " - Try changing ``dt`` significantly. What effect does it have?\n",
    " - Try changing ``N`` significantly. How does it affect what you see? How does it affect how long it takes the simulation to run?\n",
    " - Try running the simulation for much longer. Do you see any distinct long-term evolution of the system that's different from what happens on shorter timescales?\n",
    " - Use the Hernquist sphere (you can run ``help(IC.Hernquist)`` to find the parameters it takes). How does it behave compared to the other examples?\n",
    " - Use one of galpy's other spherical distribution functions (see [here](https://docs.galpy.org/en/latest/reference/df.html)) and ``IC.from_galpy_df()`` to do another IC. Note that the galpy DFs don't play nicely with astropy units, so you will need to convert the units manually."
   ]
  },
  {
   "cell_type": "code",
   "execution_count": null,
   "id": "83cf3316",
   "metadata": {},
   "outputs": [],
   "source": []
  }
 ],
 "metadata": {
  "kernelspec": {
   "display_name": "Python 3 (ipykernel)",
   "language": "python",
   "name": "python3"
  },
  "language_info": {
   "codemirror_mode": {
    "name": "ipython",
    "version": 3
   },
   "file_extension": ".py",
   "mimetype": "text/x-python",
   "name": "python",
   "nbconvert_exporter": "python",
   "pygments_lexer": "ipython3",
   "version": "3.9.12"
  }
 },
 "nbformat": 4,
 "nbformat_minor": 5
}
